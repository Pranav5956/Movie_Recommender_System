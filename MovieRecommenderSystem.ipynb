{
 "cells": [
  {
   "cell_type": "markdown",
   "metadata": {},
   "source": [
    "<h1 style=\"text-align:center\">HYBRID MOVIE RECOMMENDER SYSTEM</h1>\n",
    "<h3 style=\"text-align:center\">CONTENT-BOOSTED COLLABORATIVE FILTERING BASED RECOMMENDER SYSTEM</h3>"
   ]
  },
  {
   "cell_type": "markdown",
   "metadata": {},
   "source": [
    "<p>A <b>Recommender System</b>, or a <b>Recommendation System</b>, is a subclass of information filtering system that seeks to predict the \"rating\" or \"preference\" a user would give to an item</p>\n",
    "<p>It is primarily classified into 2 types,</p>\n",
    "\n",
    "<ol>\n",
    "    <li>Collaborative Filtering\n",
    "    <li>Content-based Filtering\n",
    "</ol>"
   ]
  },
  {
   "cell_type": "markdown",
   "metadata": {},
   "source": [
    "<h4> 1. Collaborative Filtering </h4>\n",
    "<p> Collaborative filtering is based on the assumption that people who agreed in the past will agree in the future, and that they will like similar kinds of items as they liked in the past. The system generates recommendations using only information about rating profiles for different users or items. By locating peer users/items with a rating history similar to the current user or item, they generate recommendations using this neighborhood. </p>\n",
    "\n",
    "<h5><u>Advantages:</u></h5>\n",
    "<ul>\n",
    "    <li>Does not require machine analysable content.</li>\n",
    "    <li>Data can be both implicit and explicit.</li>\n",
    "</ul>\n",
    "\n",
    "<h5><u>Disadvantages:</u></h5>\n",
    "<ul>\n",
    "    <li>Cold Start.</li>\n",
    "    <li>Scalability.</li>\n",
    "    <li>Sparsity.</li>\n",
    "</ul>"
   ]
  },
  {
   "cell_type": "markdown",
   "metadata": {},
   "source": [
    "<h4>2. Content-based Filtering</h4>\n",
    "<p>Content-based filtering methods are based on a description of the item and a profile of the user's preferences. These methods are best suited to situations where there is known data on an item (name, location, description, etc.), but not on the user. Content-based recommenders treat recommendation as a user-specific classification problem and learn a classifier for the user's likes and dislikes based on an item's features.\n",
    "\n",
    "In this system, keywords are used to describe the items and a user profile is built to indicate the type of item this user likes. In other words, these algorithms try to recommend items that are similar to those that a user liked in the past, or is examining in the present. It does not rely on a user sign-in mechanism to generate this often temporary profile. In particular, various candidate items are compared with items previously rated by the user and the best-matching items are recommended.</p>\n",
    "\n",
    "<h5><u>Advantages:</u></h5>\n",
    "<ul>\n",
    "    <li>User preference-based.</li>\n",
    "    <li>Can also include sentiment analysis.</li>\n",
    "</ul>\n",
    "\n",
    "<h5><u>Disadvantages:</u></h5>\n",
    "<ul>\n",
    "    <li>Monotonous recommendations - no variation.</li>\n",
    "</ul>"
   ]
  },
  {
   "cell_type": "markdown",
   "metadata": {},
   "source": [
    "Most recommender systems now use a <b>hybrid approach</b>, combining collaborative filtering, content-based filtering, and other approaches . There is no reason why several different techniques of the same type could not be hybridized. Hybrid approaches can be implemented in several ways: by making content-based and collaborative-based predictions separately and then combining them; by adding content-based capabilities to a collaborative-based approach (and vice versa); or by unifying the approaches into one model. Several studies that empirically compare the performance of the hybrid with the pure collaborative and content-based methods and demonstrated that the hybrid methods can provide more accurate recommendations than pure approaches. These methods can also be used to overcome some of the common problems in recommender systems such as cold start, etc.\n",
    "\n",
    "In this project, we have constructed a <b><i>Content-boosted Collaborative Filtering Recommender System</i></b>."
   ]
  },
  {
   "cell_type": "code",
   "execution_count": 1,
   "metadata": {},
   "outputs": [],
   "source": [
    "import pandas as pd"
   ]
  },
  {
   "cell_type": "markdown",
   "metadata": {},
   "source": [
    "First, we start by importing the datasets.\n",
    "\n",
    "The 'movie_data.csv' is mined from the internet using a simple web-crawler and references from 'MovieLens'. The MovieLens dataset can be found in https://grouplens.org/datasets/movielens/latest/"
   ]
  },
  {
   "cell_type": "code",
   "execution_count": 2,
   "metadata": {},
   "outputs": [
    {
     "data": {
      "text/html": [
       "<div>\n",
       "<style scoped>\n",
       "    .dataframe tbody tr th:only-of-type {\n",
       "        vertical-align: middle;\n",
       "    }\n",
       "\n",
       "    .dataframe tbody tr th {\n",
       "        vertical-align: top;\n",
       "    }\n",
       "\n",
       "    .dataframe thead th {\n",
       "        text-align: right;\n",
       "    }\n",
       "</style>\n",
       "<table border=\"1\" class=\"dataframe\">\n",
       "  <thead>\n",
       "    <tr style=\"text-align: right;\">\n",
       "      <th></th>\n",
       "      <th>movieId</th>\n",
       "      <th>imdbID</th>\n",
       "      <th>Title</th>\n",
       "      <th>Year</th>\n",
       "      <th>Genre</th>\n",
       "      <th>Director</th>\n",
       "      <th>Writer</th>\n",
       "      <th>Actors</th>\n",
       "      <th>Language</th>\n",
       "      <th>Poster</th>\n",
       "    </tr>\n",
       "  </thead>\n",
       "  <tbody>\n",
       "    <tr>\n",
       "      <th>0</th>\n",
       "      <td>1</td>\n",
       "      <td>tt0114709</td>\n",
       "      <td>Toy Story</td>\n",
       "      <td>1995</td>\n",
       "      <td>Animation, Adventure, Comedy, Family, Fantasy</td>\n",
       "      <td>John Lasseter</td>\n",
       "      <td>John Lasseter (original story by), Pete Docter...</td>\n",
       "      <td>Tom Hanks, Tim Allen, Don Rickles, Jim Varney</td>\n",
       "      <td>English</td>\n",
       "      <td>https://m.media-amazon.com/images/M/MV5BMDU2ZW...</td>\n",
       "    </tr>\n",
       "    <tr>\n",
       "      <th>1</th>\n",
       "      <td>2</td>\n",
       "      <td>tt0113497</td>\n",
       "      <td>Jumanji</td>\n",
       "      <td>1995</td>\n",
       "      <td>Adventure, Comedy, Family, Fantasy</td>\n",
       "      <td>Joe Johnston</td>\n",
       "      <td>Jonathan Hensleigh (screenplay by), Greg Taylo...</td>\n",
       "      <td>Robin Williams, Jonathan Hyde, Kirsten Dunst, ...</td>\n",
       "      <td>English, French</td>\n",
       "      <td>https://m.media-amazon.com/images/M/MV5BZTk2Zm...</td>\n",
       "    </tr>\n",
       "    <tr>\n",
       "      <th>2</th>\n",
       "      <td>3</td>\n",
       "      <td>tt0113228</td>\n",
       "      <td>Grumpier Old Men</td>\n",
       "      <td>1995</td>\n",
       "      <td>Comedy, Romance</td>\n",
       "      <td>Howard Deutch</td>\n",
       "      <td>Mark Steven Johnson (characters), Mark Steven ...</td>\n",
       "      <td>Walter Matthau, Jack Lemmon, Sophia Loren, Ann...</td>\n",
       "      <td>English, Italian, German</td>\n",
       "      <td>https://m.media-amazon.com/images/M/MV5BMjQxM2...</td>\n",
       "    </tr>\n",
       "    <tr>\n",
       "      <th>3</th>\n",
       "      <td>4</td>\n",
       "      <td>tt0114885</td>\n",
       "      <td>Waiting to Exhale</td>\n",
       "      <td>1995</td>\n",
       "      <td>Comedy, Drama, Romance</td>\n",
       "      <td>Forest Whitaker</td>\n",
       "      <td>Terry McMillan (novel), Terry McMillan (screen...</td>\n",
       "      <td>Whitney Houston, Angela Bassett, Loretta Devin...</td>\n",
       "      <td>English</td>\n",
       "      <td>https://m.media-amazon.com/images/M/MV5BYzcyMD...</td>\n",
       "    </tr>\n",
       "    <tr>\n",
       "      <th>4</th>\n",
       "      <td>5</td>\n",
       "      <td>tt0113041</td>\n",
       "      <td>Father of the Bride Part II</td>\n",
       "      <td>1995</td>\n",
       "      <td>Comedy, Family, Romance</td>\n",
       "      <td>Charles Shyer</td>\n",
       "      <td>Albert Hackett (screenplay \"Father's Little Di...</td>\n",
       "      <td>Steve Martin, Diane Keaton, Martin Short, Kimb...</td>\n",
       "      <td>English</td>\n",
       "      <td>https://m.media-amazon.com/images/M/MV5BOTEyNz...</td>\n",
       "    </tr>\n",
       "  </tbody>\n",
       "</table>\n",
       "</div>"
      ],
      "text/plain": [
       "   movieId     imdbID                        Title  Year  \\\n",
       "0        1  tt0114709                    Toy Story  1995   \n",
       "1        2  tt0113497                      Jumanji  1995   \n",
       "2        3  tt0113228             Grumpier Old Men  1995   \n",
       "3        4  tt0114885            Waiting to Exhale  1995   \n",
       "4        5  tt0113041  Father of the Bride Part II  1995   \n",
       "\n",
       "                                           Genre         Director  \\\n",
       "0  Animation, Adventure, Comedy, Family, Fantasy    John Lasseter   \n",
       "1             Adventure, Comedy, Family, Fantasy     Joe Johnston   \n",
       "2                                Comedy, Romance    Howard Deutch   \n",
       "3                         Comedy, Drama, Romance  Forest Whitaker   \n",
       "4                        Comedy, Family, Romance    Charles Shyer   \n",
       "\n",
       "                                              Writer  \\\n",
       "0  John Lasseter (original story by), Pete Docter...   \n",
       "1  Jonathan Hensleigh (screenplay by), Greg Taylo...   \n",
       "2  Mark Steven Johnson (characters), Mark Steven ...   \n",
       "3  Terry McMillan (novel), Terry McMillan (screen...   \n",
       "4  Albert Hackett (screenplay \"Father's Little Di...   \n",
       "\n",
       "                                              Actors  \\\n",
       "0      Tom Hanks, Tim Allen, Don Rickles, Jim Varney   \n",
       "1  Robin Williams, Jonathan Hyde, Kirsten Dunst, ...   \n",
       "2  Walter Matthau, Jack Lemmon, Sophia Loren, Ann...   \n",
       "3  Whitney Houston, Angela Bassett, Loretta Devin...   \n",
       "4  Steve Martin, Diane Keaton, Martin Short, Kimb...   \n",
       "\n",
       "                   Language                                             Poster  \n",
       "0                   English  https://m.media-amazon.com/images/M/MV5BMDU2ZW...  \n",
       "1           English, French  https://m.media-amazon.com/images/M/MV5BZTk2Zm...  \n",
       "2  English, Italian, German  https://m.media-amazon.com/images/M/MV5BMjQxM2...  \n",
       "3                   English  https://m.media-amazon.com/images/M/MV5BYzcyMD...  \n",
       "4                   English  https://m.media-amazon.com/images/M/MV5BOTEyNz...  "
      ]
     },
     "execution_count": 2,
     "metadata": {},
     "output_type": "execute_result"
    }
   ],
   "source": [
    "MOVIES = pd.read_csv('movie_data.csv',\n",
    "                     usecols= ['movieId', 'imdbID', 'Title', 'Year', 'Genre', 'Director', 'Writer', 'Actors', 'Language',\n",
    "                              'Poster'],\n",
    "                     dtype= {'movieId': 'int64', 'imdbID': 'str', 'Title': 'str', 'Year': 'str', 'Genre': 'str', \n",
    "                             'Director': 'str', 'Writer': 'str', 'Actors': 'str', 'Language': 'str', 'Poster': 'str'})\n",
    "MOVIES.head()"
   ]
  },
  {
   "cell_type": "markdown",
   "metadata": {},
   "source": [
    "It can be seen that the DataFrame has the following columns:\n",
    "<b>\n",
    "1. movieId (int)\n",
    "2. imdbID (str)\n",
    "3. Title (str)\n",
    "4. Year (str)\n",
    "5. Genre (List)\n",
    "6. Director (str)\n",
    "7. Writer (List)\n",
    "8. Actors (List)\n",
    "9. Language (List)\n",
    "10. Poster (str)\n",
    "</b>\n",
    "\n",
    "But, since all the multi-valued attributes are stored as comma-separated strings, the data has to be processed."
   ]
  },
  {
   "cell_type": "code",
   "execution_count": 3,
   "metadata": {
    "scrolled": false
   },
   "outputs": [
    {
     "data": {
      "text/html": [
       "<div>\n",
       "<style scoped>\n",
       "    .dataframe tbody tr th:only-of-type {\n",
       "        vertical-align: middle;\n",
       "    }\n",
       "\n",
       "    .dataframe tbody tr th {\n",
       "        vertical-align: top;\n",
       "    }\n",
       "\n",
       "    .dataframe thead th {\n",
       "        text-align: right;\n",
       "    }\n",
       "</style>\n",
       "<table border=\"1\" class=\"dataframe\">\n",
       "  <thead>\n",
       "    <tr style=\"text-align: right;\">\n",
       "      <th></th>\n",
       "      <th>movieId</th>\n",
       "      <th>imdbID</th>\n",
       "      <th>Title</th>\n",
       "      <th>Year</th>\n",
       "      <th>Genre</th>\n",
       "      <th>Director</th>\n",
       "      <th>Writer</th>\n",
       "      <th>Actors</th>\n",
       "      <th>Language</th>\n",
       "      <th>Poster</th>\n",
       "    </tr>\n",
       "  </thead>\n",
       "  <tbody>\n",
       "    <tr>\n",
       "      <th>0</th>\n",
       "      <td>1</td>\n",
       "      <td>tt0114709</td>\n",
       "      <td>Toy Story</td>\n",
       "      <td>1995</td>\n",
       "      <td>[Animation, Adventure, Comedy, Family, Fantasy]</td>\n",
       "      <td>John Lasseter</td>\n",
       "      <td>[John Lasseter, Pete Docter, Andrew Stanton, J...</td>\n",
       "      <td>[Tom Hanks, Tim Allen, Don Rickles, Jim Varney]</td>\n",
       "      <td>[English]</td>\n",
       "      <td>https://m.media-amazon.com/images/M/MV5BMDU2ZW...</td>\n",
       "    </tr>\n",
       "    <tr>\n",
       "      <th>1</th>\n",
       "      <td>2</td>\n",
       "      <td>tt0113497</td>\n",
       "      <td>Jumanji</td>\n",
       "      <td>1995</td>\n",
       "      <td>[Adventure, Comedy, Family, Fantasy]</td>\n",
       "      <td>Joe Johnston</td>\n",
       "      <td>[Jonathan Hensleigh, Greg Taylor, Jim Strain, ...</td>\n",
       "      <td>[Robin Williams, Jonathan Hyde, Kirsten Dunst,...</td>\n",
       "      <td>[English, French]</td>\n",
       "      <td>https://m.media-amazon.com/images/M/MV5BZTk2Zm...</td>\n",
       "    </tr>\n",
       "    <tr>\n",
       "      <th>2</th>\n",
       "      <td>3</td>\n",
       "      <td>tt0113228</td>\n",
       "      <td>Grumpier Old Men</td>\n",
       "      <td>1995</td>\n",
       "      <td>[Comedy, Romance]</td>\n",
       "      <td>Howard Deutch</td>\n",
       "      <td>[Mark Steven Johnson, Mark Steven Johnson]</td>\n",
       "      <td>[Walter Matthau, Jack Lemmon, Sophia Loren, An...</td>\n",
       "      <td>[English, Italian, German]</td>\n",
       "      <td>https://m.media-amazon.com/images/M/MV5BMjQxM2...</td>\n",
       "    </tr>\n",
       "    <tr>\n",
       "      <th>3</th>\n",
       "      <td>4</td>\n",
       "      <td>tt0114885</td>\n",
       "      <td>Waiting to Exhale</td>\n",
       "      <td>1995</td>\n",
       "      <td>[Comedy, Drama, Romance]</td>\n",
       "      <td>Forest Whitaker</td>\n",
       "      <td>[Terry McMillan, Terry McMillan, Ronald Bass]</td>\n",
       "      <td>[Whitney Houston, Angela Bassett, Loretta Devi...</td>\n",
       "      <td>[English]</td>\n",
       "      <td>https://m.media-amazon.com/images/M/MV5BYzcyMD...</td>\n",
       "    </tr>\n",
       "    <tr>\n",
       "      <th>4</th>\n",
       "      <td>5</td>\n",
       "      <td>tt0113041</td>\n",
       "      <td>Father of the Bride Part II</td>\n",
       "      <td>1995</td>\n",
       "      <td>[Comedy, Family, Romance]</td>\n",
       "      <td>Charles Shyer</td>\n",
       "      <td>[Albert Hackett, Frances Goodrich, Nancy Meyer...</td>\n",
       "      <td>[Steve Martin, Diane Keaton, Martin Short, Kim...</td>\n",
       "      <td>[English]</td>\n",
       "      <td>https://m.media-amazon.com/images/M/MV5BOTEyNz...</td>\n",
       "    </tr>\n",
       "  </tbody>\n",
       "</table>\n",
       "</div>"
      ],
      "text/plain": [
       "   movieId     imdbID                        Title  Year  \\\n",
       "0        1  tt0114709                    Toy Story  1995   \n",
       "1        2  tt0113497                      Jumanji  1995   \n",
       "2        3  tt0113228             Grumpier Old Men  1995   \n",
       "3        4  tt0114885            Waiting to Exhale  1995   \n",
       "4        5  tt0113041  Father of the Bride Part II  1995   \n",
       "\n",
       "                                             Genre         Director  \\\n",
       "0  [Animation, Adventure, Comedy, Family, Fantasy]    John Lasseter   \n",
       "1             [Adventure, Comedy, Family, Fantasy]     Joe Johnston   \n",
       "2                                [Comedy, Romance]    Howard Deutch   \n",
       "3                         [Comedy, Drama, Romance]  Forest Whitaker   \n",
       "4                        [Comedy, Family, Romance]    Charles Shyer   \n",
       "\n",
       "                                              Writer  \\\n",
       "0  [John Lasseter, Pete Docter, Andrew Stanton, J...   \n",
       "1  [Jonathan Hensleigh, Greg Taylor, Jim Strain, ...   \n",
       "2         [Mark Steven Johnson, Mark Steven Johnson]   \n",
       "3      [Terry McMillan, Terry McMillan, Ronald Bass]   \n",
       "4  [Albert Hackett, Frances Goodrich, Nancy Meyer...   \n",
       "\n",
       "                                              Actors  \\\n",
       "0    [Tom Hanks, Tim Allen, Don Rickles, Jim Varney]   \n",
       "1  [Robin Williams, Jonathan Hyde, Kirsten Dunst,...   \n",
       "2  [Walter Matthau, Jack Lemmon, Sophia Loren, An...   \n",
       "3  [Whitney Houston, Angela Bassett, Loretta Devi...   \n",
       "4  [Steve Martin, Diane Keaton, Martin Short, Kim...   \n",
       "\n",
       "                     Language  \\\n",
       "0                   [English]   \n",
       "1           [English, French]   \n",
       "2  [English, Italian, German]   \n",
       "3                   [English]   \n",
       "4                   [English]   \n",
       "\n",
       "                                              Poster  \n",
       "0  https://m.media-amazon.com/images/M/MV5BMDU2ZW...  \n",
       "1  https://m.media-amazon.com/images/M/MV5BZTk2Zm...  \n",
       "2  https://m.media-amazon.com/images/M/MV5BMjQxM2...  \n",
       "3  https://m.media-amazon.com/images/M/MV5BYzcyMD...  \n",
       "4  https://m.media-amazon.com/images/M/MV5BOTEyNz...  "
      ]
     },
     "execution_count": 3,
     "metadata": {},
     "output_type": "execute_result"
    }
   ],
   "source": [
    "MOVIES = MOVIES.fillna('')\n",
    "\n",
    "MOVIES['Genre'] = MOVIES['Genre'].str.split(', ')\n",
    "MOVIES['Actors'] = MOVIES['Actors'].str.split(', ')\n",
    "MOVIES['Writer'] = MOVIES['Writer'].replace(r' \\([^\\)]*\\)', '', regex= True).str.split(', ')\n",
    "MOVIES['Language'] = MOVIES['Language'].str.split(', ')\n",
    "\n",
    "MOVIES.head()"
   ]
  },
  {
   "cell_type": "markdown",
   "metadata": {},
   "source": [
    "Now, the cleaned data has 9719 rows and 9 columns"
   ]
  },
  {
   "cell_type": "code",
   "execution_count": 4,
   "metadata": {},
   "outputs": [
    {
     "data": {
      "text/plain": [
       "(9719, 10)"
      ]
     },
     "execution_count": 4,
     "metadata": {},
     "output_type": "execute_result"
    }
   ],
   "source": [
    "MOVIES.shape"
   ]
  },
  {
   "cell_type": "markdown",
   "metadata": {},
   "source": [
    "Next, the ratings data is imported from 'ratings.csv'. This dataset is a part of the MovieLens dataset, which is available in https://grouplens.org/datasets/movielens/latest/"
   ]
  },
  {
   "cell_type": "code",
   "execution_count": 5,
   "metadata": {},
   "outputs": [
    {
     "data": {
      "text/html": [
       "<div>\n",
       "<style scoped>\n",
       "    .dataframe tbody tr th:only-of-type {\n",
       "        vertical-align: middle;\n",
       "    }\n",
       "\n",
       "    .dataframe tbody tr th {\n",
       "        vertical-align: top;\n",
       "    }\n",
       "\n",
       "    .dataframe thead th {\n",
       "        text-align: right;\n",
       "    }\n",
       "</style>\n",
       "<table border=\"1\" class=\"dataframe\">\n",
       "  <thead>\n",
       "    <tr style=\"text-align: right;\">\n",
       "      <th></th>\n",
       "      <th>userId</th>\n",
       "      <th>movieId</th>\n",
       "      <th>rating</th>\n",
       "    </tr>\n",
       "  </thead>\n",
       "  <tbody>\n",
       "    <tr>\n",
       "      <th>0</th>\n",
       "      <td>1</td>\n",
       "      <td>1</td>\n",
       "      <td>4.0</td>\n",
       "    </tr>\n",
       "    <tr>\n",
       "      <th>1</th>\n",
       "      <td>1</td>\n",
       "      <td>3</td>\n",
       "      <td>4.0</td>\n",
       "    </tr>\n",
       "    <tr>\n",
       "      <th>2</th>\n",
       "      <td>1</td>\n",
       "      <td>6</td>\n",
       "      <td>4.0</td>\n",
       "    </tr>\n",
       "    <tr>\n",
       "      <th>3</th>\n",
       "      <td>1</td>\n",
       "      <td>47</td>\n",
       "      <td>5.0</td>\n",
       "    </tr>\n",
       "    <tr>\n",
       "      <th>4</th>\n",
       "      <td>1</td>\n",
       "      <td>50</td>\n",
       "      <td>5.0</td>\n",
       "    </tr>\n",
       "  </tbody>\n",
       "</table>\n",
       "</div>"
      ],
      "text/plain": [
       "   userId  movieId  rating\n",
       "0       1        1     4.0\n",
       "1       1        3     4.0\n",
       "2       1        6     4.0\n",
       "3       1       47     5.0\n",
       "4       1       50     5.0"
      ]
     },
     "execution_count": 5,
     "metadata": {},
     "output_type": "execute_result"
    }
   ],
   "source": [
    "RATINGS = pd.read_csv('ratings.csv', usecols= ['userId', 'movieId', 'rating'])\n",
    "RATINGS.head()"
   ]
  },
  {
   "cell_type": "code",
   "execution_count": 6,
   "metadata": {},
   "outputs": [
    {
     "data": {
      "text/html": [
       "<div>\n",
       "<style scoped>\n",
       "    .dataframe tbody tr th:only-of-type {\n",
       "        vertical-align: middle;\n",
       "    }\n",
       "\n",
       "    .dataframe tbody tr th {\n",
       "        vertical-align: top;\n",
       "    }\n",
       "\n",
       "    .dataframe thead th {\n",
       "        text-align: right;\n",
       "    }\n",
       "</style>\n",
       "<table border=\"1\" class=\"dataframe\">\n",
       "  <thead>\n",
       "    <tr style=\"text-align: right;\">\n",
       "      <th></th>\n",
       "      <th>userId</th>\n",
       "      <th>rating</th>\n",
       "    </tr>\n",
       "    <tr>\n",
       "      <th>movieId</th>\n",
       "      <th></th>\n",
       "      <th></th>\n",
       "    </tr>\n",
       "  </thead>\n",
       "  <tbody>\n",
       "    <tr>\n",
       "      <th>1</th>\n",
       "      <td>215</td>\n",
       "      <td>215</td>\n",
       "    </tr>\n",
       "    <tr>\n",
       "      <th>2</th>\n",
       "      <td>110</td>\n",
       "      <td>110</td>\n",
       "    </tr>\n",
       "    <tr>\n",
       "      <th>3</th>\n",
       "      <td>52</td>\n",
       "      <td>52</td>\n",
       "    </tr>\n",
       "    <tr>\n",
       "      <th>4</th>\n",
       "      <td>7</td>\n",
       "      <td>7</td>\n",
       "    </tr>\n",
       "    <tr>\n",
       "      <th>5</th>\n",
       "      <td>49</td>\n",
       "      <td>49</td>\n",
       "    </tr>\n",
       "    <tr>\n",
       "      <th>...</th>\n",
       "      <td>...</td>\n",
       "      <td>...</td>\n",
       "    </tr>\n",
       "    <tr>\n",
       "      <th>193581</th>\n",
       "      <td>1</td>\n",
       "      <td>1</td>\n",
       "    </tr>\n",
       "    <tr>\n",
       "      <th>193583</th>\n",
       "      <td>1</td>\n",
       "      <td>1</td>\n",
       "    </tr>\n",
       "    <tr>\n",
       "      <th>193585</th>\n",
       "      <td>1</td>\n",
       "      <td>1</td>\n",
       "    </tr>\n",
       "    <tr>\n",
       "      <th>193587</th>\n",
       "      <td>1</td>\n",
       "      <td>1</td>\n",
       "    </tr>\n",
       "    <tr>\n",
       "      <th>193609</th>\n",
       "      <td>1</td>\n",
       "      <td>1</td>\n",
       "    </tr>\n",
       "  </tbody>\n",
       "</table>\n",
       "<p>9724 rows × 2 columns</p>\n",
       "</div>"
      ],
      "text/plain": [
       "         userId  rating\n",
       "movieId                \n",
       "1           215     215\n",
       "2           110     110\n",
       "3            52      52\n",
       "4             7       7\n",
       "5            49      49\n",
       "...         ...     ...\n",
       "193581        1       1\n",
       "193583        1       1\n",
       "193585        1       1\n",
       "193587        1       1\n",
       "193609        1       1\n",
       "\n",
       "[9724 rows x 2 columns]"
      ]
     },
     "execution_count": 6,
     "metadata": {},
     "output_type": "execute_result"
    }
   ],
   "source": [
    "RATINGS.groupby('movieId').count()"
   ]
  },
  {
   "cell_type": "markdown",
   "metadata": {},
   "source": [
    "## Methods and Setup for Content-Boosting"
   ]
  },
  {
   "cell_type": "markdown",
   "metadata": {},
   "source": [
    "Correlation between movie data, for example: Director, Actors, Genre, etc. is calculated using a simple metric like cosine similarity, etc. Using this, similar movies can be grouped together.\n",
    "\n",
    "For this, a 'soup' is created: a collection of all metadata."
   ]
  },
  {
   "cell_type": "code",
   "execution_count": 7,
   "metadata": {},
   "outputs": [
    {
     "data": {
      "text/plain": [
       "0    Toy Story 1995 Animation Adventure Comedy Fami...\n",
       "1    Jumanji 1995 Adventure Comedy Family Fantasy J...\n",
       "2    Grumpier Old Men 1995 Comedy Romance Howard De...\n",
       "3    Waiting to Exhale 1995 Comedy Drama Romance Fo...\n",
       "4    Father of the Bride Part II 1995 Comedy Family...\n",
       "Name: soup, dtype: object"
      ]
     },
     "execution_count": 7,
     "metadata": {},
     "output_type": "execute_result"
    }
   ],
   "source": [
    "def create_soup(row):\n",
    "    return ' '.join([row['Title'], row['Year'], ' '.join(row['Genre']), row['Director'], ' '.join(row['Writer']), \n",
    "                     ' '.join(row['Actors']), ' '.join(row['Language'])])\n",
    "\n",
    "MOVIES['soup'] = MOVIES.apply(create_soup, axis= 1)\n",
    "MOVIES['soup'].head()"
   ]
  },
  {
   "cell_type": "markdown",
   "metadata": {},
   "source": [
    "We use 'CountVectorizer' from sklearn.metrics.pairwise module, that vectorizes words for comparison. We will also import the cosine similarity module, which computes the similarity of a particular row with other rows of the dataset."
   ]
  },
  {
   "cell_type": "code",
   "execution_count": 8,
   "metadata": {},
   "outputs": [
    {
     "data": {
      "text/plain": [
       "(9719, 28605)"
      ]
     },
     "execution_count": 8,
     "metadata": {},
     "output_type": "execute_result"
    }
   ],
   "source": [
    "from sklearn.feature_extraction.text import CountVectorizer\n",
    "\n",
    "cv = CountVectorizer(stop_words='english')\n",
    "vectorized_matrix = cv.fit_transform(MOVIES['soup'])\n",
    "vectorized_matrix.shape"
   ]
  },
  {
   "cell_type": "code",
   "execution_count": 9,
   "metadata": {},
   "outputs": [],
   "source": [
    "from sklearn.metrics.pairwise import cosine_similarity\n",
    "\n",
    "def create_cosine_sim_matrix(movie_ind):\n",
    "    return cosine_similarity(vectorized_matrix, vectorized_matrix[movie_ind])"
   ]
  },
  {
   "cell_type": "markdown",
   "metadata": {},
   "source": [
    "## Methods and Setup for Collaborative Filtering Process"
   ]
  },
  {
   "cell_type": "markdown",
   "metadata": {},
   "source": [
    "Plots between columns 'movieId', 'userId' and 'rating' can be visualized below. Though the first 2 graphs do not give any significant relation, the third graph shows dense clustering, receding with increasing 'movieId'. Thus, a relation between 'movieId' and 'userId' is more meaningful in this case. However, the 'rating' is also a hidden factor in this dependance."
   ]
  },
  {
   "cell_type": "code",
   "execution_count": 10,
   "metadata": {},
   "outputs": [
    {
     "data": {
      "text/plain": [
       "<matplotlib.axes._subplots.AxesSubplot at 0x1c3057c0>"
      ]
     },
     "execution_count": 10,
     "metadata": {},
     "output_type": "execute_result"
    },
    {
     "data": {
      "image/png": "[encoded data removed]",
      "text/plain": [
       "<Figure size 432x288 with 1 Axes>"
      ]
     },
     "metadata": {
      "needs_background": "light"
     },
     "output_type": "display_data"
    },
    {
     "data": {
      "image/png": "[encoded data removed]",
      "text/plain": [
       "<Figure size 432x288 with 1 Axes>"
      ]
     },
     "metadata": {
      "needs_background": "light"
     },
     "output_type": "display_data"
    },
    {
     "data": {
      "image/png": "[encoded data removed]",
      "text/plain": [
       "<Figure size 432x288 with 1 Axes>"
      ]
     },
     "metadata": {
      "needs_background": "light"
     },
     "output_type": "display_data"
    }
   ],
   "source": [
    "RATINGS.plot.scatter(x= 'movieId', y= 'rating') \n",
    "RATINGS.plot.scatter(x= 'userId', y= 'rating') \n",
    "RATINGS.plot.scatter(x= 'userId', y= 'movieId')"
   ]
  },
  {
   "cell_type": "markdown",
   "metadata": {},
   "source": [
    "<h3>Compressed Sparse Row (CSR) Matrix</h3>\n",
    "\n",
    "We converted the tabular 'ratings' data into 2-D correlation data, using the 'pivot' function of the pandas.DataFrame with the index as 'movieId' column, columns as 'userId' column and the values as the 'rating' column. Then we convert it into a compressed sparse row matrix for easier storage (null value storage is handled better in sparse matrices). We use the <b>csr_matrix</b> function from the scipy.sparse module."
   ]
  },
  {
   "cell_type": "code",
   "execution_count": 11,
   "metadata": {},
   "outputs": [
    {
     "data": {
      "text/plain": [
       "'Iron Man'"
      ]
     },
     "execution_count": 11,
     "metadata": {},
     "output_type": "execute_result"
    }
   ],
   "source": [
    "# Few helper functions\n",
    "from fuzzywuzzy import fuzz\n",
    "\n",
    "def find_closest_movie(movie_name: str) -> int:\n",
    "    movie_name = movie_name.lower()\n",
    "    closest_matches = MOVIES[['Title', 'Year']].copy()\n",
    "    closest_matches['Ratio'] = closest_matches.apply(lambda row: fuzz.ratio(row['Title'].lower(), movie_name), axis= 1)\n",
    "    \n",
    "    closest_movie =  closest_matches[closest_matches['Ratio'] >= 60]\n",
    "    \n",
    "    if len(closest_movie):\n",
    "        return closest_movie.sort_values(by= ['Ratio', 'Year'], ascending= False)['Ratio'].idxmax()\n",
    "    return None\n",
    "\n",
    "MOVIES.loc[find_closest_movie('irn man')].Title"
   ]
  },
  {
   "cell_type": "code",
   "execution_count": 12,
   "metadata": {
    "scrolled": true
   },
   "outputs": [],
   "source": [
    "from scipy.sparse import csr_matrix\n",
    "\n",
    "def create_sparse_matrix(ratings):\n",
    "    csr_ratings = csr_matrix(ratings.pivot(index= 'movieId', columns= 'userId', values= 'rating').fillna(0).values)\n",
    "    return csr_ratings"
   ]
  },
  {
   "cell_type": "markdown",
   "metadata": {},
   "source": [
    "We'll be using 2 different models for filtering predictions (Similarity and Ratings estimation) using <b>K-Nearest Neighbors (KNN)</b> and <b>Support Vector Decomposition (SVD)</b> respectively, as part of cluster analysis."
   ]
  },
  {
   "cell_type": "markdown",
   "metadata": {},
   "source": [
    "<h4>K-NEAREST NEIGHBORS</h4>\n",
    "\n",
    "Clusters nearest to a given sample are analysed and k-nearest samples are returned. This is a function at run-time because it is dependant on the data filtered as a result of content boosting."
   ]
  },
  {
   "cell_type": "code",
   "execution_count": 13,
   "metadata": {},
   "outputs": [],
   "source": [
    "from sklearn.neighbors import NearestNeighbors\n",
    "\n",
    "def knn_model(ratings, movie_ind):\n",
    "    KNN = NearestNeighbors(n_neighbors= 10, algorithm= 'brute', metric= 'cosine', n_jobs= -1)\n",
    "    csr = create_sparse_matrix(ratings)\n",
    "    KNN.fit(csr)\n",
    "    \n",
    "    return KNN.kneighbors(csr[movie_ind], n_neighbors= 21, return_distance= False).squeeze().tolist()[1:]"
   ]
  },
  {
   "cell_type": "markdown",
   "metadata": {},
   "source": [
    "<h4>SUPPORT VECTOR DECOMPOSITION</h4>\n",
    "\n",
    "Approximates values by multiplying 2 lower rank matrices. Here, we can predict the user's rating based on the trend of ratings.\n",
    "This generates 9701 x 610 values for user ratings predictions, so the initial run-time is high, but is a one-time run."
   ]
  },
  {
   "cell_type": "code",
   "execution_count": 14,
   "metadata": {},
   "outputs": [
    {
     "data": {
      "text/plain": [
       "<surprise.prediction_algorithms.matrix_factorization.SVD at 0x1be3ac70>"
      ]
     },
     "execution_count": 14,
     "metadata": {},
     "output_type": "execute_result"
    }
   ],
   "source": [
    "from surprise import SVD, Reader, Dataset\n",
    "from surprise.model_selection import cross_validate\n",
    "    \n",
    "reader = Reader()\n",
    "data = Dataset.load_from_df(RATINGS, reader)\n",
    "    \n",
    "svd = SVD()\n",
    "cross_validate(svd, data, measures= ['RMSE', 'MAE'])\n",
    "\n",
    "trainset = data.build_full_trainset()\n",
    "svd.fit(trainset)"
   ]
  },
  {
   "cell_type": "markdown",
   "metadata": {},
   "source": [
    "## Hybrid Recommender System Model"
   ]
  },
  {
   "cell_type": "markdown",
   "metadata": {},
   "source": [
    "The idea is to pass the movies into Content-based filtering first and filter out top 30 movies, that are closest to the input movie. Then these movies are further subjected to the Collaborative Filtering models, wherein they are reduced to 20 by KNN and finally, to 10 by the SVD algorithm."
   ]
  },
  {
   "cell_type": "code",
   "execution_count": 18,
   "metadata": {},
   "outputs": [],
   "source": [
    "import heapq\n",
    "\n",
    "def generate_recommendations(movie_ind: int, userId: int):\n",
    "    # Content boosting - selects 30 closest movies + 1 (input movie)\n",
    "    sim_matrix = create_cosine_sim_matrix(movie_ind)\n",
    "    content_boost = heapq.nlargest(31, range(len(sim_matrix)), sim_matrix.__getitem__)\n",
    "    \n",
    "    # Collaborative Filtering\n",
    "    # KNN model selects top 20 closest movies\n",
    "    knn_result = knn_model(RATINGS[RATINGS['movieId'].isin(MOVIES.loc[content_boost].movieId)], 0)\n",
    "    \n",
    "    # SVD model predicts user ratings for these movies and selects the top 10\n",
    "    knn_result_movies = MOVIES.loc[content_boost].iloc[knn_result]\n",
    "    \n",
    "    return knn_result_movies.loc[knn_result_movies.apply(lambda row: svd.predict(userId, row['movieId']).est, axis= 1).sort_values(ascending= False).head(10).index].Title.tolist()"
   ]
  },
  {
   "cell_type": "markdown",
   "metadata": {},
   "source": [
    "# The Driver Code\n",
    "\n",
    "This is the main interface of the program, that recieves a movie name and a user ID (between 1 and 610) and gives 10 recomendations for the movie entered"
   ]
  },
  {
   "cell_type": "code",
   "execution_count": 35,
   "metadata": {},
   "outputs": [
    {
     "name": "stdout",
     "output_type": "stream",
     "text": [
      "Enter the name of the movie: pirates of the caribean\n",
      "Enter your user ID: 45\n",
      "\n",
      "Did you mean 'Pirates of the Caribbean: At World's End'?\n",
      "\n",
      "Recommendations: \n",
      "\n",
      "1. Pirates of the Caribbean: The Curse of the Black Pearl\n",
      "2. Time Bandits\n",
      "3. Aladdin\n",
      "4. The Imaginarium of Doctor Parnassus\n",
      "5. Fear and Loathing in Las Vegas\n",
      "6. The Adventures of Baron Munchausen\n",
      "7. The Mask of Zorro\n",
      "8. Rango\n",
      "9. Pirates of the Caribbean: Dead Man's Chest\n",
      "10. The Meaning of Life\n"
     ]
    }
   ],
   "source": [
    "movie_name = input(\"Enter the name of the movie: \")\n",
    "userId = int(input(\"Enter your user ID: \"))\n",
    "\n",
    "closest_movie_ind = find_closest_movie(movie_name)\n",
    "\n",
    "if closest_movie_ind is None:\n",
    "    print(\"\\nOops! No matching movies found!\")\n",
    "else:\n",
    "    closest_movie_name = MOVIES.loc[closest_movie_ind].Title\n",
    "    if not closest_movie_name == movie_name: \n",
    "        print(f\"\\nDid you mean '{closest_movie_name}'?\")\n",
    "\n",
    "    print(\"\\nRecommendations: \\n\")\n",
    "\n",
    "    for pos, movie in enumerate(generate_recommendations(closest_movie_ind, userId)):\n",
    "        print(f'{pos + 1}. {movie}')"
   ]
  },
  {
   "cell_type": "code",
   "execution_count": null,
   "metadata": {},
   "outputs": [],
   "source": []
  }
 ],
 "metadata": {
  "kernelspec": {
   "display_name": "Python 3",
   "language": "python",
   "name": "python3"
  },
  "language_info": {
   "codemirror_mode": {
    "name": "ipython",
    "version": 3
   },
   "file_extension": ".py",
   "mimetype": "text/x-python",
   "name": "python",
   "nbconvert_exporter": "python",
   "pygments_lexer": "ipython3",
   "version": "3.8.2"
  }
 },
 "nbformat": 4,
 "nbformat_minor": 4
}
